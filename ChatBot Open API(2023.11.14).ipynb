{
  "nbformat": 4,
  "nbformat_minor": 0,
  "metadata": {
    "colab": {
      "private_outputs": true,
      "provenance": [],
      "authorship_tag": "ABX9TyPGebRqoqSOFpqXL8qBPpJM",
      "include_colab_link": true
    },
    "kernelspec": {
      "name": "python3",
      "display_name": "Python 3"
    },
    "language_info": {
      "name": "python"
    }
  },
  "cells": [
    {
      "cell_type": "markdown",
      "metadata": {
        "id": "view-in-github",
        "colab_type": "text"
      },
      "source": [
        "<a href=\"https://colab.research.google.com/github/sinbba77/tensorflow-nlp-tutorial/blob/main/ChatBot%20Open%20API(2023.11.14).ipynb\" target=\"_parent\"><img src=\"https://colab.research.google.com/assets/colab-badge.svg\" alt=\"Open In Colab\"/></a>"
      ]
    },
    {
      "cell_type": "markdown",
      "source": [
        "# 파이썬을 이용한 간단한 챗봇 구현 예제"
      ],
      "metadata": {
        "id": "n7xd9cstT8nW"
      }
    },
    {
      "cell_type": "code",
      "execution_count": null,
      "metadata": {
        "id": "tUh7loVgS15f"
      },
      "outputs": [],
      "source": [
        "def simple_chatbot(user_input):\n",
        "    # 사용자 입력에 따른 응답 정의\n",
        "    responses = {\n",
        "        \"안녕\": \"안녕하세요! 무엇을 도와드릴까요?\",\n",
        "        \"잘 지내?\": \"네, 저는 항상 여기 있어요!\",\n",
        "        \"무엇을 할 수 있어?\": \"저는 간단한 대화를 할 수 있어요. 무엇이든 물어보세요!\",\n",
        "        \"작별 인사\": \"안녕히 계세요! 다음에 또 만나요.\"\n",
        "    }\n",
        "\n",
        "    # 사용자 입력에 대한 응답 반환\n",
        "    return responses.get(user_input, \"죄송해요, 이해하지 못했어요. 다른 질문을 해주세요.\")\n",
        "\n",
        "# 챗봇 실행\n",
        "while True:\n",
        "    user_input = input(\"당신: \")\n",
        "    if user_input.lower() == \"잘 가\":\n",
        "        print(\"챗봇: 안녕히 가세요!\")\n",
        "        break\n",
        "    response = simple_chatbot(user_input)\n",
        "    print(\"챗봇:\", response)"
      ]
    },
    {
      "cell_type": "markdown",
      "source": [
        "# 콜센터 챗봇을 구현하는 예제\n",
        "- 인텐트(의도) 분류하기만 구현\n",
        "- 실제 콜센터 챗봇에서는 더 복잡한 대화 흐름과 자연어 처리 기능이 필요할 수 있으며, 이를 위해 Rasa, Dialogflow, Microsoft Bot Framework와 같은 고급 챗봇 개발 플랫폼을 사용함"
      ],
      "metadata": {
        "id": "96iphXRmXvaW"
      }
    },
    {
      "cell_type": "code",
      "source": [
        "def call_center_chatbot(user_input):\n",
        "    # 사용자 질문에 따른 응답 정의\n",
        "    responses = {\n",
        "        \"계정 문제\": \"계정 문제는 계정 관리 부서로 연결해드리겠습니다. 잠시만 기다려주세요.\",\n",
        "        \"결제 문제\": \"결제 관련 문제는 결제 처리 부서로 연결해드리겠습니다. 잠시만 기다려주세요.\",\n",
        "        \"배송 조회\": \"배송 조회를 원하시면, 주문 번호를 입력해주세요.\",\n",
        "        \"환불 요청\": \"환불 요청은 고객 서비스 부서로 연결해드리겠습니다. 잠시만 기다려주세요.\",\n",
        "        \"기술 지원\": \"기술 지원이 필요하시면, 문제의 세부 사항을 알려주세요.\"\n",
        "    }\n",
        "\n",
        "    # 사용자 입력에 대한 응답 반환\n",
        "    return responses.get(user_input, \"죄송합니다, 이해하지 못했습니다. 다시 시도해주세요.\")\n",
        "\n",
        "# 챗봇 실행\n",
        "while True:\n",
        "    user_input = input(\"어떻게 도와드릴까요? (종료하려면 '종료' 입력): \")\n",
        "    if user_input.lower() == \"종료\":\n",
        "        print(\"챗봇을 종료합니다.\")\n",
        "        break\n",
        "    response = call_center_chatbot(user_input)\n",
        "    print(\"챗봇:\", response)"
      ],
      "metadata": {
        "id": "rjh-fyV2Xr-o"
      },
      "execution_count": null,
      "outputs": []
    },
    {
      "cell_type": "markdown",
      "source": [
        "# Open API를 활용한 간단한 챗봇 구현 예제\n",
        "- OpenWeatherMap API를 사용하여 날씨 정보를 제공하는 챗봇\n",
        "- https://openweathermap.org/api 에서 API 키를 발급받아야 함\n",
        "- 사용자가 입력한 도시의 날씨 정보를 OpenWeatherMap API를 통해 가져와 출력\n",
        "- 사용자가 \"종료\"라고 입력하면 프로그램 종료"
      ],
      "metadata": {
        "id": "mCn37_pLUFVL"
      }
    },
    {
      "cell_type": "code",
      "source": [
        "import requests\n",
        "\n",
        "def get_weather(city):\n",
        "    api_key = \"your_openweathermap_api_key\"\n",
        "    base_url = \"http://api.openweathermap.org/data/2.5/weather?\"\n",
        "\n",
        "    complete_url = f\"{base_url}appid={api_key}&q={city}&units=metric\"\n",
        "    response = requests.get(complete_url)\n",
        "    data = response.json()\n",
        "\n",
        "    if data[\"cod\"] != \"404\":\n",
        "        weather = data[\"main\"]\n",
        "        temperature = weather[\"temp\"]\n",
        "        humidity = weather[\"humidity\"]\n",
        "        return f\"{city}의 현재 온도는 {temperature}°C이고, 습도는 {humidity}%입니다.\"\n",
        "    else:\n",
        "        return \"도시를 찾을 수 없습니다.\"\n",
        "\n",
        "# 챗봇 실행\n",
        "while True:\n",
        "    user_input = input(\"도시 이름을 입력하세요 (종료하려면 '종료' 입력): \")\n",
        "    if user_input.lower() == \"종료\":\n",
        "        print(\"챗봇을 종료합니다.\")\n",
        "        break\n",
        "    weather_info = get_weather(user_input)\n",
        "    print(weather_info)\n"
      ],
      "metadata": {
        "id": "9-WmrSDnayhE"
      },
      "execution_count": null,
      "outputs": []
    },
    {
      "cell_type": "markdown",
      "source": [
        "- TMDB (The Movie Database) API를 사용하여 사용자가 요청한 영화에 대한 정보를 검색하고 반환하는 챗봇 구현\n",
        "- TMDB(https://developer.themoviedb.org/docs)에서 API 키를 발급받아야 함\n",
        "- 사용자가 입력한 영화 제목에 대한 정보를 TMDB API를 통해 가져와 출력\n",
        "- 사용자가 \"종료\"라고 입력하면 프로그램 종료"
      ],
      "metadata": {
        "id": "LVMywIsCcf1T"
      }
    },
    {
      "cell_type": "code",
      "source": [
        "import requests\n",
        "\n",
        "def get_movie_info(movie_title):\n",
        "    api_key = \"your_tmdb_api_key\"\n",
        "    base_url = \"https://api.themoviedb.org/3/search/movie?\"\n",
        "\n",
        "    complete_url = f\"{base_url}api_key={api_key}&query={movie_title}\"\n",
        "    response = requests.get(complete_url)\n",
        "    data = response.json()\n",
        "\n",
        "    if data[\"results\"]:\n",
        "        first_movie = data[\"results\"][0]\n",
        "        title = first_movie[\"title\"]\n",
        "        overview = first_movie[\"overview\"]\n",
        "        release_date = first_movie[\"release_date\"]\n",
        "        return f\"제목: {title}\\n개봉일: {release_date}\\n줄거리: {overview}\"\n",
        "    else:\n",
        "        return \"영화를 찾을 수 없습니다.\"\n",
        "\n",
        "# 챗봇 실행\n",
        "while True:\n",
        "    user_input = input(\"영화 제목을 입력하세요 (종료하려면 '종료' 입력): \")\n",
        "    if user_input.lower() == \"종료\":\n",
        "        print(\"챗봇을 종료합니다.\")\n",
        "        break\n",
        "    movie_info = get_movie_info(user_input)\n",
        "    print(movie_info)"
      ],
      "metadata": {
        "id": "_L52qD6lc1sn"
      },
      "execution_count": null,
      "outputs": []
    }
  ]
}